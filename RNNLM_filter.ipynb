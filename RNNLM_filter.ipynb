{
 "cells": [
  {
   "cell_type": "code",
   "execution_count": 15,
   "metadata": {},
   "outputs": [],
   "source": [
    "ROOT_PATH = \"./working/c2c_char_level/cVAE_with_BOW_loss/run1508659693/\"\n",
    "\n",
    "import jieba\n",
    "\n",
    "word_seg = True\n",
    "\n",
    "gen_file = ROOT_PATH + \"test.txt\"\n",
    "\n",
    "response2src = {}\n",
    "\n",
    "fout = open(ROOT_PATH + \"gen.txt\", 'w')\n",
    "with open(gen_file, 'r') as fin:\n",
    "    for line in fin:\n",
    "        line = line.strip()\n",
    "        if line.startswith(\"Batch\"):\n",
    "            src = \"\"\n",
    "        elif line.startswith(\"Src\"):\n",
    "            src += line[11:-4] + \"\\n\"\n",
    "        elif line.startswith(\"Sample\"):\n",
    "            response = line.split(\">>\", 1)[1].strip()\n",
    "            # word seg\n",
    "            if word_seg:\n",
    "                response = \" \".join(jieba.lcut(\"\".join(response.split(\" \")))).encode(\"utf8\")\n",
    "            if len(response.split(\" \")) - len(set(response.split(\" \"))) == 0:\n",
    "                print >> fout, response\n",
    "                response2src[response] = src.strip()\n",
    "            \n",
    "fout.close()"
   ]
  },
  {
   "cell_type": "code",
   "execution_count": 16,
   "metadata": {},
   "outputs": [],
   "source": [
    "sen_score = {}\n",
    "\n",
    "with open(ROOT_PATH + \"gen.txt\", 'r') as f_sen:\n",
    "    with open(ROOT_PATH + \"gen_prob.txt\", 'r') as f_score:\n",
    "        for sen, score in zip(f_sen, f_score):\n",
    "            if score.strip() != \"OOV\":\n",
    "                sen_score[sen.strip()] = float(score)\n",
    "            "
   ]
  },
  {
   "cell_type": "code",
   "execution_count": 17,
   "metadata": {},
   "outputs": [
    {
     "name": "stdout",
     "output_type": "stream",
     "text": [
      "78771\n"
     ]
    },
    {
     "data": {
      "image/png": "[encoded data removed]",
      "text/plain": [
       "<matplotlib.figure.Figure at 0x7f91be821b50>"
      ]
     },
     "metadata": {},
     "output_type": "display_data"
    }
   ],
   "source": [
    "%matplotlib inline\n",
    "\n",
    "print len(sen_score)\n",
    "\n",
    "from matplotlib import pyplot as plt\n",
    "\n",
    "#h = plt.hist(sen_score.values(), 100)\n",
    "\n",
    "h = plt.hist([score/len(sen.split(\" \")) for sen, score in sen_score.items()], 100)"
   ]
  },
  {
   "cell_type": "code",
   "execution_count": 18,
   "metadata": {},
   "outputs": [
    {
     "name": "stdout",
     "output_type": "stream",
     "text": [
      "341\n"
     ]
    }
   ],
   "source": [
    "src2response = {}\n",
    "for sen, src in response2src.items():\n",
    "    score = sen_score.get(sen, -100000)/len(sen.split(\" \"))\n",
    "    if score > -2:\n",
    "        src2response.setdefault(src, [])\n",
    "        src2response[src].append((sen, score))\n",
    "\n",
    "print len(src2response)\n",
    "with open(ROOT_PATH + \"final_result.txt\", 'w') as fout:\n",
    "    for src, responses in src2response.items():\n",
    "        print >> fout, \"src: \" + src\n",
    "        for i, sen in enumerate(responses):\n",
    "            print >> fout, \"gen%d: %s (%f)\" % (i, sen[0], sen[1])\n",
    "        print >> fout, \"\"\n"
   ]
  },
  {
   "cell_type": "code",
   "execution_count": 19,
   "metadata": {},
   "outputs": [
    {
     "name": "stdout",
     "output_type": "stream",
     "text": [
      "src: 小 法 ： 感 谢 温 格 当 年 的 培 养 \n",
      "在 加 盟 仅 6 周 后 ， 法 布 雷 加 斯 在 与 罗 瑟 汉 姆 的 联 赛 杯 比 赛 中 得 到 出 场 机 会 ， 也 因 此 成 为 阿 森 纳 一 线 队 最 年 轻 的 出 场 队 员 。 \n",
      "他 表 示 如 果 当 初 没 有 温 格 的 指 点 ， 自 己 的 职 业 生 涯 肯 定 会 非 常 不 同 。 \n",
      "温 格 对 我 来 说 应 该 是 最 重 要 的 教 练 ， 他 给 了 我 机 会 ， 这 是 每 个 人 都 想 得 到 的 真 正 的 机 会 。 \n",
      "在 我 才 1 6 岁 的 时 候 ， 温 格 将 我 带 到 阿 森 纳 ， 并 让 我 成 为 了 一 名 更 好 的 球 员 。 \n",
      "我 认 为 温 格 是 一 个 特 别 的 教 练 ， 一 个 特 别 的 人 ， 没 有 他 ， 我 也 不 会 达 到 现 在 的 高 度 。\n",
      "gen: 温格 是 世界 上 最好 的 主教练 。\n",
      "-1.206522125\n",
      "\n",
      "src: 小 法 ： 感 谢 温 格 当 年 的 培 养 \n",
      "在 加 盟 仅 6 周 后 ， 法 布 雷 加 斯 在 与 罗 瑟 汉 姆 的 联 赛 杯 比 赛 中 得 到 出 场 机 会 ， 也 因 此 成 为 阿 森 纳 一 线 队 最 年 轻 的 出 场 队 员 。 \n",
      "他 表 示 如 果 当 初 没 有 温 格 的 指 点 ， 自 己 的 职 业 生 涯 肯 定 会 非 常 不 同 。 \n",
      "温 格 对 我 来 说 应 该 是 最 重 要 的 教 练 ， 他 给 了 我 机 会 ， 这 是 每 个 人 都 想 得 到 的 真 正 的 机 会 。 \n",
      "在 我 才 1 6 岁 的 时 候 ， 温 格 将 我 带 到 阿 森 纳 ， 并 让 我 成 为 了 一 名 更 好 的 球 员 。 \n",
      "我 认 为 温 格 是 一 个 特 别 的 教 练 ， 一 个 特 别 的 人 ， 没 有 他 ， 我 也 不 会 达 到 现 在 的 高 度 。\n",
      "gen: 小法 确实 是 世界 上 最好 的 球员 之一 。\n",
      "-1.2770629\n",
      "\n",
      "src: 切 尔 西 1 - 0 客 胜 桑 德 兰 收 获 联 赛 十 连 胜 ， 小 法 打 进 联 赛 处 子 球 \n",
      "北 京 时 间 1 2 月 1 5 日 星 期 四 0 3 : 4 5 ， 蓝 军 切 尔 西 在 客 场 光 明 球 场 迎 战 黑 猫 桑 德 兰 。 \n",
      "比 赛 第 1 8 分 钟 ， 切 尔 西 获 得 前 场 任 意 球 机 会 ， 任 意 球 被 防 守 球 员 解 围 出 底 线 ， 随 后 的 角 球 被 皮 克 福 德 稳 稳 得 到 。 \n",
      "比 赛 第 3 8 分 钟 ， 切 尔 西 获 得 前 场 任 意 球 机 会 ， 大 卫 - 路 易 斯 的 打 门 打 在 人 墙 上 有 了 变 线 ， 球 被 皮 克 福 德 得 到 。 \n",
      "技 术 统 计 ： 球 员 评 分 ： 主 队 桑 德 兰 方 面 ， 吉 洛 鲍 吉 获 得 了 全 队 最 高 的 7 . 5 分 ； 切 尔 西 方 面 ， 打 入 制 胜 进 球 的 小 法 获 得 了 全 场 最 高 的 8 . 5 分 。 \n",
      "双 方 阵 容 ： 桑 德 兰 首 发 ： 1 3 - 皮 克 福 德 、 2 3 - 科 内 、 5 - 吉 洛 鲍 吉 、 1 6 - 奥 谢 、 2 - 比 利 - 琼 斯 、 4 - 德 纳 伊 尔 、 2 7 - 基 尔 希 霍 夫 、 3 - 范 安 霍 尔 特 、 9 - 博 里 尼 、 1 8\n",
      "gen: 这是 一场 精彩 的 比赛 。\n",
      "-1.16195733333\n",
      "\n",
      "src: 你 是 裁 判 2 9 9 ： 偷 天 换 日 \n",
      "每 轮 比 赛 之 后 ， 裁 判 都 是 球 迷 们 吐 槽 的 焦 点 ， 这 一 次 小 编 决 定 给 你 们 一 个 你 行 你 上 啊 的 机 会 。 \n",
      "上 期 问 题 ： 比 赛 中 ， 门 将 和 对 方 前 锋 发 生 了 一 次 严 重 的 相 撞 ， 但 是 看 见 两 人 都 能 坚 持 比 赛 ， 你 便 允 许 比 赛 继 续 。 \n",
      "不 久 ， 后 卫 将 球 回 传 给 这 位 门 将 时 ， 他 突 然 倒 地 ， 球 滚 入 了 球 网 。 \n",
      "▼ 最 先 答 对 的 裁 判 ： @ z h u a n g w y 2 0 1 6 - 0 2 - 1 7 2 2 : 3 1 : 2 9 进 球 有 效 ， 让 队 医 上 场 治 疗 门 将 ▼ 随 机 选 取 回 答 正 确 的 裁 判 ： @ r u s e r i o u s ： 有 效 进 球 \n",
      "@ 迷 途 的 小 羊 <unk> ： 当 然 有 效 ， 进 球 时 裁 判 未 鸣 哨 ， 比 赛 进 行 中 进 的 球 有 效 ， 当 然 之 后 叫 队 医 啦 @ 永 远 的 拜 仁 王 朝 ： 这 球 算 进 ， 因 为 之 前 门 将 能 坚 持 比 赛 ， 现 在 在 没 有 冲 撞 的 情 况 下\n",
      "gen: 如果 是 裁判 的 问题 ， 他 也 被 罚 下 了 。\n",
      "-1.20256230769\n",
      "\n",
      "src: 孝 子 ， 博 格 巴 为 医 院 中 父 亲 庆 生 \n",
      "据 《 太 阳 报 》 报 道 ， 曼 联 球 星 博 格 巴 最 近 前 往 医 院 看 望 了 自 己 的 父 亲 ， 并 为 他 庆 祝 了 7 9 岁 生 日 。 \n",
      "在 个 人 社 交 媒 体 上 博 格 巴 上 传 了 为 父 亲 庆 生 的 照 片 。 \n",
      "照 片 中 博 格 巴 满 面 笑 容 ， 身 着 N B A 好 友 哈 登 全 明 星 球 衣 的 他 摆 出 了 7 9 的 手 势 ， 一 个 大 大 的 蛋 糕 摆 在 了 父 亲 的 面 前 。 \n",
      "博 格 巴 此 前 在 与 罗 斯 托 夫 的 欧 联 杯 1 6 强 次 回 合 比 赛 中 拉 伤 了 腿 筋 ， 他 也 因 此 缺 席 了 法 国 国 家 队 的 世 界 杯 欧 洲 区 预 选 赛 。 \n",
      "此 前 据 媒 体 报 道 ， 由 于 恢 复 良 好 ， 他 可 能 会 提 前 在 曼 联 对 阵 埃 弗 顿 的 英 超 联 赛 中 回 归 球 队 。\n",
      "gen: 博格 巴 或许 是 世界 上 最好 的 选择 。\n",
      "-1.1987133\n",
      "\n",
      "src: 即 使 曼 城 跌 出 联 赛 前 四 ， 瓜 帅 首 季 也 堪 称 出 色 \n",
      "在 来 到 英 超 的 第 一 个 赛 季 里 ， 曼 城 新 任 主 教 练 瓜 迪 奥 拉 已 经 表 现 得 足 够 出 色 。 \n",
      "没 有 人 能 让 我 对 这 个 观 点 产 生 动 摇 ， 虽 然 这 样 的 想 法 与 英 格 兰 足 球 当 前 流 行 的 X 因 素 观 念 背 道 而 驰 — — 在 英 超 的 豪 门 球 队 执 教 ， 如 果 你 没 能 拿 下 本 应 赢 得 的 联 赛 冠 军 ， 那 么 俱 乐 部 \n",
      "正 因 如 此 ， 本 赛 季 瓜 迪 奥 拉 的 球 队 在 欧 冠 赛 场 早 早 出 局 的 不 佳 表 现 、 以 及 联 赛 冠 军 争 夺 战 中 主 场 输 给 领 头 羊 切 尔 西 的 比 赛 ， 很 可 能 是 曼 城 老 板 曼 苏 尔 和 他 的 商 业 伙 伴 们 表 现 出 些 许 \n",
      "这 应 该 是 他 熟 悉 英 超 、 适 应 一 个 完 全 不 同 的 联 赛 的 赛 季 ， 他 需 要 时 间 去 评 估 哪 些 球 员 足 够 好 ， 而 哪 些 球 员 不 是 。 \n",
      "去 年 九 月 在 老 特 拉 福 德 ， 曼 城 客 场 战 胜 曼 联 的 那 场 美 妙 胜 利 履 行 了 瓜 迪 奥 拉 对 于 美 丽 足 球 的 承 诺 ， 就 像 他 在 诺 坎 普 所 做 到 的 那 样 。\n",
      "gen: 曼城 的确 是 世界 上 最好 的 球队 。\n",
      "-1.27279\n",
      "\n",
      "src: 奥 古 斯 托 ： 巴 西 的 目 标 是 金 牌 \n",
      "这 支 巴 西 国 奥 虽 然 更 加 年 轻 ， 但 是 已 经 更 加 成 熟 。 \n",
      "作 为 球 队 最 稳 定 的 球 员 ， 奥 古 斯 托 赛 后 得 到 了 巴 西 国 内 一 致 的 好 评 。 \n",
      "不 过 奥 古 斯 托 本 人 说 道 ： 事 实 上 ， 这 是 我 们 的 教 练 团 队 和 技 术 部 门 的 功 劳 ， 而 这 些 理 念 也 传 达 到 了 球 员 们 的 头 脑 里 ， 我 相 信 巴 西 正 走 在 正 确 的 道 路 上 。 \n",
      "战 胜 哥 伦 比 亚 之 后 ， 巴 西 国 奥 将 在 半 决 赛 迎 战 淘 汰 了 夺 冠 热 门 韩 国 队 的 洪 都 拉 斯 。 \n",
      "我 们 都 希 望 能 够 带 走 一 枚 金 牌 ， 我 想 赢 ， 因 为 这 代 表 着 特 殊 的 感 情 。\n",
      "gen: 奥古斯 托 是 世界 上 最好 的 球员 。\n",
      "-1.25944177778\n",
      "\n",
      "src: 维 泽 ： 我 仍 会 是 最 好 的 门 将 之 一 \n",
      "前 德 国 国 门 维 泽 在 几 天 之 前 晒 出 了 一 张 最 新 的 健 身 照 ， 照 片 中 他 继 续 秀 着 那 恐 怖 的 肌 肉 。 \n",
      "近 两 年 痴 迷 于 健 身 的 维 泽 在 接 受 采 访 时 表 示 ， 如 果 他 重 返 球 场 ， 他 仍 旧 会 是 最 出 色 的 德 甲 门 将 之 一 。 \n",
      "3 3 岁 的 维 泽 已 经 与 霍 芬 海 姆 和 平 分 手 了 ， 他 在 接 受 采 访 时 说 道 ： 我 上 一 次 正 式 比 赛 还 是 在 2 年 前 ， 我 知 道 一 切 已 经 是 过 去 式 了 ， 但 如 果 我 现 在 重 新 开 始 进 行 门 将 训 练 的 话 ， 我 还 \n",
      "我 的 短 距 离 爆 发 力 很 强 ， 这 点 我 从 现 在 的 门 将 身 上 很 少 能 看 得 到 。 \n",
      "不 过 虽 然 远 离 足 球 ， 但 是 他 对 现 在 的 生 活 状 态 很 满 意 ， 维 泽 继 续 说 道 ： 身 在 聚 光 灯 下 的 生 活 已 经 离 我 远 去 了 ， 我 现 在 很 健 康 ， 财 政 状 况 也 很 良 好 ， 健 美 和 摔 角 是 很 有 吸 引 力 的 两 件\n",
      "gen: 对于 门将 来说 是 世界 上 最好 的 俱乐部 。\n",
      "-1.2948005\n",
      "\n",
      "src: 巴 萨 6 - 0 客 胜 阿 拉 维 斯 ， M S N 进 球 ， 苏 牙 两 传 两 射 ， 比 达 尔 重 伤 \n",
      "北 京 时 间 2 月 1 1 日 2 3 : 1 5 ， 西 甲 第 2 2 轮 继 续 进 行 ， 巴 塞 罗 那 队 在 客 场 挑 战 阿 拉 维 斯 队 。 \n",
      "苏 亚 雷 斯 梅 开 二 度 并 送 出 两 次 助 攻 ， 梅 西 、 内 马 尔 、 拉 基 蒂 奇 各 进 一 球 ， 加 上 阿 拉 维 斯 后 卫 的 乌 龙 送 礼 ！ \n",
      "梅 西 在 前 场 积 极 抢 断 收 到 效 果 ， 他 在 禁 区 前 沿 断 下 皮 球 后 杀 入 禁 区 ， 在 左 侧 小 角 度 低 射 打 穿 入 网 ！ \n",
      "苏 亚 雷 斯 前 场 斜 塞 ， 梅 西 得 球 从 中 路 杀 到 门 前 ， 阿 拉 维 斯 后 卫 埃 尔 南 德 斯 从 后 下 铲 成 功 ， 但 球 打 在 亚 力 克 西 斯 脚 上 反 弹 入 网 ！ \n",
      "苏 牙 后 场 抢 断 后 杀 到 前 场 分 球 给 梅 西 ， 梅 西 再 送 直 传 ， 苏 牙 得 球 后 在 禁 区 右 侧 回 磕 ， 拉 基 蒂 奇 接 球 爆 射 入 网 ！\n",
      "gen: 这 是 我 最 喜欢 的 球员 。\n",
      "-1.060493375\n",
      "\n",
      "src: 前 泰 达 外 援 ： 印 超 比 中 超 好 ； 印 度 球 员 比 中 国 球 员 强 \n",
      "印 超 球 队 孟 买 城 的 主 教 练 是 前 天 津 泰 达 的 主 教 练 吉 马 良 斯 ， 而 队 内 也 有 一 名 后 卫 效 力 过 泰 达 ， 就 是 罗 马 尼 亚 人 卢 锡 安 - 戈 扬 。 \n",
      "戈 扬 2 0 1 2 年 在 泰 达 踢 球 ， 2 0 1 3 、 2 0 1 4 年 在 北 京 八 喜 ( 现 北 京 控 股 ) 效 力 。 \n",
      "这 是 戈 扬 在 印 度 的 第 一 个 赛 季 ， 但 他 已 经 迅 速 适 应 ， 表 现 出 色 。 \n",
      "印 度 球 员 是 真 正 的 职 业 球 员 ， 能 力 上 超 过 了 中 国 球 员 。 \n",
      "在 过 去 几 年 里 ， 印 度 球 员 在 力 量 上 有 所 成 长 ， 与 经 验 丰 富 的 外 国 队 友 密 切 合 作 ， 发 挥 了 重 要 作 用 。\n",
      "gen: 我 觉得 这是 中国 最好 的 球员 。\n",
      "-1.277478375\n",
      "\n",
      "src: 恒 大 2 - 2 逼 平 泰 达 ， 郑 龙 世 界 波 救 主 \n",
      "比 赛 集 锦 ： 北 京 时 间 6 月 4 日 2 0 : 0 0 ， 广 州 恒 大 在 主 场 迎 来 已 经 三 连 胜 的 天 津 泰 达 。 \n",
      "刘 健 开 场 仅 5 分 钟 就 为 恒 大 打 破 僵 局 ， 但 巴 尔 克 斯 和 普 拉 里 甘 吉 的 两 粒 头 球 助 泰 达 2 - 1 逆 转 。 \n",
      "泰 达 在 第 7 6 分 钟 被 罚 下 一 人 ， 郑 龙 的 世 界 波 任 意 球 破 门 助 恒 大 2 - 2 战 平 天 津 泰 达 。 \n",
      "第 2 8 分 钟 ， 泰 达 在 前 场 连 续 抢 断 创 造 出 机 会 ！ \n",
      "技 术 统 计 ： 广 州 恒 大 首 发 ： 1 9 - 曾 诚 、 6 - 冯 潇 霆 、 1 7 - 刘 健 、 3 3 - 荣 昊 、 2 5 - 邹 正 、 1 6 - 黄 博 文 、 2 1 - 赵 旭 日 ( 4 6 ' 3 4 - 王 军 辉 ) 、 4 - 张 佳 祺 、 2 7 - 郑 龙\n",
      "gen: 其实 这场 比赛 的 表现 让 人 印象 深刻 。\n",
      "-1.133468\n",
      "\n",
      "src: 孝 子 ， 博 格 巴 为 医 院 中 父 亲 庆 生 \n",
      "据 《 太 阳 报 》 报 道 ， 曼 联 球 星 博 格 巴 最 近 前 往 医 院 看 望 了 自 己 的 父 亲 ， 并 为 他 庆 祝 了 7 9 岁 生 日 。 \n",
      "在 个 人 社 交 媒 体 上 博 格 巴 上 传 了 为 父 亲 庆 生 的 照 片 。 \n",
      "照 片 中 博 格 巴 满 面 笑 容 ， 身 着 N B A 好 友 哈 登 全 明 星 球 衣 的 他 摆 出 了 7 9 的 手 势 ， 一 个 大 大 的 蛋 糕 摆 在 了 父 亲 的 面 前 。 \n",
      "博 格 巴 此 前 在 与 罗 斯 托 夫 的 欧 联 杯 1 6 强 次 回 合 比 赛 中 拉 伤 了 腿 筋 ， 他 也 因 此 缺 席 了 法 国 国 家 队 的 世 界 杯 欧 洲 区 预 选 赛 。 \n",
      "此 前 据 媒 体 报 道 ， 由 于 恢 复 良 好 ， 他 可 能 会 提 前 在 曼 联 对 阵 埃 弗 顿 的 英 超 联 赛 中 回 归 球 队 。\n",
      "gen: 他 是 世界 上 最好 的 球员 之一 。\n",
      "-0.785548222222\n",
      "\n",
      "src: 维 泽 ： 我 仍 会 是 最 好 的 门 将 之 一 \n",
      "前 德 国 国 门 维 泽 在 几 天 之 前 晒 出 了 一 张 最 新 的 健 身 照 ， 照 片 中 他 继 续 秀 着 那 恐 怖 的 肌 肉 。 \n",
      "近 两 年 痴 迷 于 健 身 的 维 泽 在 接 受 采 访 时 表 示 ， 如 果 他 重 返 球 场 ， 他 仍 旧 会 是 最 出 色 的 德 甲 门 将 之 一 。 \n",
      "3 3 岁 的 维 泽 已 经 与 霍 芬 海 姆 和 平 分 手 了 ， 他 在 接 受 采 访 时 说 道 ： 我 上 一 次 正 式 比 赛 还 是 在 2 年 前 ， 我 知 道 一 切 已 经 是 过 去 式 了 ， 但 如 果 我 现 在 重 新 开 始 进 行 门 将 训 练 的 话 ， 我 还 \n",
      "我 的 短 距 离 爆 发 力 很 强 ， 这 点 我 从 现 在 的 门 将 身 上 很 少 能 看 得 到 。 \n",
      "不 过 虽 然 远 离 足 球 ， 但 是 他 对 现 在 的 生 活 状 态 很 满 意 ， 维 泽 继 续 说 道 ： 身 在 聚 光 灯 下 的 生 活 已 经 离 我 远 去 了 ， 我 现 在 很 健 康 ， 财 政 状 况 也 很 良 好 ， 健 美 和 摔 角 是 很 有 吸 引 力 的 两 件\n",
      "gen: 我 认为 他 是 中国 最好 的 一个 赛季 之一 。\n",
      "-1.20233981818\n",
      "\n",
      "src: 小 罗 菲 戈 场 上 踢 球 ， 学 生 看 台 埋 头 写 作 业 \n",
      "据 《 南 方 都 市 报 》 报 道 ， 昨 晚 小 罗 、 菲 戈 等 世 界 级 球 星 在 成 都 体 育 中 心 参 加 了 一 场 足 球 比 赛 ， 吸 引 了 不 少 当 地 球 迷 的 关 注 ， 有 近 两 万 名 球 迷 到 现 场 观 赛 ， 但 是 有 几 张 中 学 生 在 看 台 \n",
      "根 据 微 博 网 友 小 宇 宙 7 2 3 发 的 图 片 ， 可 以 看 到 孩 子 们 正 在 看 台 上 写 着 作 业 。 \n",
      "我 们 是 受 承 办 方 邀 请 ， 对 方 给 了 我 们 几 百 张 门 票 ， 除 了 学 校 的 两 支 足 球 队 外 ， 其 余 学 生 都 是 自 愿 报 名 前 往 。 \n",
      "而 对 于 是 否 学 校 课 业 压 力 过 大 才 导 致 学 生 们 在 看 台 上 做 作 业 的 质 疑 ， 该 校 长 进 行 了 否 认 ， 做 作 业 是 孩 子 自 己 的 选 择 ， 而 且 只 是 少 部 分 。 \n",
      "足 球 ， 要 从 娃 娃 抓 起 ， 但 大 环 境 的 影 响 和 课 业 压 力 却 让 不 少 学 生 不 得 不 放 弃 足 球 ， 甚 至 连 拿 到 免 费 球 票 来 看 世 界 级 球 星 的 时 候 ， 都 还 要 埋 头 写 作 业 。\n",
      "gen: 罗纳尔迪 尼奥 是 世界 上 最好 的 球员 。\n",
      "-1.07114966667\n",
      "\n",
      "src: 囧 叔 ： 必 须 表 扬 一 下 我 的 球 员 \n",
      "今 天 凌 晨 结 束 的 意 大 利 杯 决 赛 中 ， 尤 文 图 斯 经 过 加 时 1 - 0 击 败 A C 米 兰 ， 成 功 卫 冕 。 \n",
      "下 个 赛 季 ， 斑 马 军 团 要 向 联 赛 六 连 冠 发 起 冲 击 ， 并 且 在 欧 冠 拿 出 优 异 表 现 。 \n",
      "比 赛 进 行 到 第 1 0 8 分 钟 时 ， 阿 莱 格 里 做 出 了 关 键 的 换 人 调 整 ， 让 西 班 牙 射 手 莫 拉 塔 替 补 登 场 。 \n",
      "值 得 一 提 的 是 ， 尤 文 图 斯 连 续 两 个 赛 季 获 得 双 冠 王 ， 赢 得 意 甲 联 赛 冠 军 和 意 大 利 杯 冠 军 。 \n",
      "尤 文 图 斯 球 员 没 有 感 到 满 足 ， 因 为 俱 乐 部 的 传 统 就 是 一 直 为 胜 利 而 战 。\n",
      "gen: 对于 球队 来说 是 重要 的 。\n",
      "-1.29504628571\n",
      "\n"
     ]
    }
   ],
   "source": [
    "for sen, score in sen_score.items():\n",
    "    if score/len(sen.split(\" \")) > -1.3:\n",
    "        print \"src: \" + response2src[sen] \n",
    "        print \"gen: \" + sen\n",
    "        print score/len(sen.split(\" \"))\n",
    "        print \"\""
   ]
  },
  {
   "cell_type": "markdown",
   "metadata": {
    "collapsed": true
   },
   "source": [
    "# Gen evaluation dataset for LM"
   ]
  },
  {
   "cell_type": "code",
   "execution_count": null,
   "metadata": {
    "collapsed": true
   },
   "outputs": [],
   "source": [
    "import random\n",
    "\n",
    "comments = []\n",
    "with open(\"./test.txt\", 'r') as fin:\n",
    "    for line in fin:\n",
    "        line = line.strip()\n",
    "        if line.startswith(\"Batch\"):\n",
    "            src = \"\"\n",
    "        elif line.startswith(\"Src 0\"):\n",
    "            src = \"\".join(line[11:-4].split(\" \"))\n",
    "        elif line.startswith(\"Sample\"):\n",
    "            response = line.split(\">>\", 1)[1].strip()\n",
    "            response = \"\".join(response.split(\" \"))\n",
    "            comments.append((src, response))\n",
    "    \n",
    "with open(\"./eval_for_lm.csv\", 'w') as fout:\n",
    "    for src, response in random.sample(comments, 1000):\n",
    "        print >> fout, \"%s\\t%s\" % (src, response)"
   ]
  },
  {
   "cell_type": "code",
   "execution_count": null,
   "metadata": {
    "collapsed": true
   },
   "outputs": [],
   "source": []
  }
 ],
 "metadata": {
  "kernelspec": {
   "display_name": "Python 2",
   "language": "python",
   "name": "python2"
  },
  "language_info": {
   "codemirror_mode": {
    "name": "ipython",
    "version": 2
   },
   "file_extension": ".py",
   "mimetype": "text/x-python",
   "name": "python",
   "nbconvert_exporter": "python",
   "pygments_lexer": "ipython2",
   "version": "2.7.13"
  }
 },
 "nbformat": 4,
 "nbformat_minor": 2
}
